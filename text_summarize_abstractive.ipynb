{
  "nbformat": 4,
  "nbformat_minor": 0,
  "metadata": {
    "colab": {
      "name": "Text_Summarize.ipynb",
      "provenance": [],
      "collapsed_sections": []
    },
    "kernelspec": {
      "name": "python3",
      "display_name": "Python 3"
    },
    "language_info": {
      "name": "python"
    }
  },
  "cells": [
    {
      "cell_type": "markdown",
      "source": [
        "# Natural Language Generation \n",
        "Abstractive Text Summarization using Google Pegasus & other implementations"
      ],
      "metadata": {
        "id": "l2OuJFX28in1"
      }
    },
    {
      "cell_type": "code",
      "source": [
        "!pip install transformers sentencepiece\n",
        "import transformers\n",
        "from transformers import pipeline\n",
        "from transformers import AutoTokenizer, AutoModelForSeq2SeqLM\n",
        "from IPython.display import clear_output\n",
        "clear_output()"
      ],
      "metadata": {
        "id": "2KAol20F5wee"
      },
      "execution_count": null,
      "outputs": []
    },
    {
      "cell_type": "code",
      "execution_count": null,
      "metadata": {
        "id": "r2aD018i42Oi"
      },
      "outputs": [],
      "source": [
        "'''\n",
        "import requests\n",
        "r = requests.post(\n",
        "    \"https://api.deepai.org/api/summarization\", # extractive\n",
        "    files={\n",
        "        'text': open('test_summ.txt', 'rb'),\n",
        "    },\n",
        "    headers={'api-key': 'quickstart-QUdJIGlzIGNvbWluZy4uLi4K'}\n",
        ")\n",
        "r = requests.post(\n",
        "    \"https://api.deepai.org/api/summarization\",\n",
        "    data={\n",
        "        'text': 'Data science is a concept to unify statistics, data analysis, informatics, and their related methods in order to understand and analyse actual phenomena with data. It uses techniques and theories drawn from many fields within the context of mathematics, statistics, computer science, information science, and domain knowledge. However, data science is different from computer science and information science. Turing Award winner Jim Gray imagined data science as a fourth paradigm of science (empirical, theoretical, computational, and now data-driven) and asserted that everything about science is changing because of the impact of information technology and the data deluge. Data science is an interdisciplinary field that uses scientific methods, processes, algorithms and systems to extract knowledge and insights from noisy, structured and unstructured data, and apply knowledge from data across a broad range of application domains. Data science is related to data mining, machine learning and big data. A data scientist is someone who creates programming code and combines it with statistical knowledge to create insights from data.',\n",
        "    },\n",
        "    headers={'api-key': 'quickstart-QUdJIGlzIGNvbWluZy4uLi4K'}\n",
        ")\n",
        "print(r.json())'''\n",
        "clear_output()"
      ]
    },
    {
      "cell_type": "markdown",
      "source": [
        "**Note:**\n",
        "\n",
        "Refer https://huggingface.co/models?pipeline_tag=summarization&sort=downloads for pre-trained models to use with pipleline.\n",
        "\n",
        "Supported text summarisation models are ['BartForConditionalGeneration', 'BigBirdPegasusForConditionalGeneration', 'BlenderbotForConditionalGeneration', 'BlenderbotSmallForConditionalGeneration', 'EncoderDecoderModel', 'FSMTForConditionalGeneration', 'LEDForConditionalGeneration', 'LongT5ForConditionalGeneration', 'M2M100ForConditionalGeneration', 'MarianMTModel', 'MBartForConditionalGeneration', 'MT5ForConditionalGeneration', 'PegasusForConditionalGeneration', 'PLBartForConditionalGeneration', 'ProphetNetForConditionalGeneration', 'T5ForConditionalGeneration', 'XLMProphetNetForConditionalGeneration']."
      ],
      "metadata": {
        "id": "rcNvJuY_Z8n3"
      }
    },
    {
      "cell_type": "code",
      "source": [
        "# PEGASUS\n",
        "a_summarizer = pipeline(\"summarization\", model = \"google/pegasus-xsum\")\n",
        "\n",
        "# BART\n",
        "b_summarizer = pipeline(\"summarization\", model = \"facebook/bart-large-cnn\")\n",
        "\n",
        "# T5\n",
        "c_summarizer = pipeline(\"summarization\", model= \"csebuetnlp/mT5_multilingual_XLSum\")\n",
        "d_summarizer = pipeline(\"summarization\", model= \"google/t5-v1_1-base\")\n",
        "\n",
        "#e_summarizer = pipeline(\"summarization\", model= \"openai-gpt\") # The model 'OpenAIGPTLMHeadModel' is not supported for summarization but text generation. Somehow, it gives output for summarization too.\n",
        "\n",
        "#f_summarizer = pipeline(\"summarization\", model= \"mrm8488/bert-small2bert-small-finetuned-cnn_daily_mail-summarization\") # not working\n",
        "clear_output()"
      ],
      "metadata": {
        "id": "9nSG2FM6Lk34"
      },
      "execution_count": null,
      "outputs": []
    },
    {
      "cell_type": "code",
      "source": [
        "# Automatically create relevant architecture for the model given the name to pretrained config\n",
        "tokenizer = AutoTokenizer.from_pretrained('google/pegasus-xsum')\n",
        "model = AutoModelForSeq2SeqLM.from_pretrained('google/pegasus-xsum')\n",
        "\n",
        "def auto_pegasus(text_example):\n",
        "    tokens_input = tokenizer.encode(\"summarize: \"+ text_example, return_tensors='pt', max_length=512, truncation=True)\n",
        "    ids = model.generate(tokens_input, min_length=80, max_length=120)\n",
        "    summary = tokenizer.decode(ids[0], skip_special_tokens=True)\n",
        "    print(summary)"
      ],
      "metadata": {
        "id": "57rQeIiMqqDY"
      },
      "execution_count": null,
      "outputs": []
    },
    {
      "cell_type": "code",
      "source": [
        "# Pipeline Code\n",
        "'''from transformers import PegasusForConditionalGeneration, PegasusTokenizer\n",
        "import torch\n",
        "\n",
        "device = \"cuda\" if torch.cuda.is_available() else \"cpu\"\n",
        "model_name = \"google/pegasus-xsum\"\n",
        "tokenizer = PegasusTokenizer.from_pretrained(model_name)\n",
        "model = PegasusForConditionalGeneration.from_pretrained(model_name).to(device)\n",
        "\n",
        "def regular_pegasus1(src_text):\n",
        "    batch = tokenizer(src_text, truncation=True, padding=\"longest\", return_tensors=\"pt\").to(device)\n",
        "    translated = model.generate(**batch)\n",
        "    tgt_text = tokenizer.batch_decode(translated, skip_special_tokens=True)\n",
        "    print(tgt_text)\n",
        "\n",
        "def regular_pegasus1(src_text):    \n",
        "    batch = tokenizer.prepare_seq2seq_batch(src_text, truncation=True, padding='longest',return_tensors='pt')\n",
        "    translated = model.generate(**batch)\n",
        "    tgt_text = tokenizer.batch_decode(translated, skip_special_tokens=True)\n",
        "    print(tgt_text)'''\n",
        "clear_output()"
      ],
      "metadata": {
        "id": "CjB01yB7y8P4"
      },
      "execution_count": null,
      "outputs": []
    },
    {
      "cell_type": "markdown",
      "source": [
        "## Example #1"
      ],
      "metadata": {
        "id": "mvIXWYrjCIvY"
      }
    },
    {
      "cell_type": "code",
      "source": [
        "text_example = '''\n",
        "The tower is 324 meters (1,063 ft) tall, about the same height as an 81-storey \n",
        "building, and the tallest structure in Paris. Its base is square, measuring \n",
        "125 meters (410 ft) on each side. During its construction, the Eiffel Tower \n",
        "surpassed the Washington Monument to become the tallest man-made structure in \n",
        "the world, a title it held for 41 years until the Chrysler Building in New York \n",
        "City was finished in 1930. It was the first structure to reach a height of 300 \n",
        "meters. Due to the addition of a broadcasting aerial at the top of the tower in \n",
        "1957, it is now taller than the Chrysler Building by 5.2 meters (17 ft). \n",
        "Excluding transmitters, the Eiffel Tower is the second tallest free-standing \n",
        "structure in France after the Millau Viaduct.'''\n",
        "# Need to evaluate results manually due to lack of labelling\n",
        "\n",
        "print(a_summarizer(text_example)[0]['summary_text']+\"\\n\\n\"+b_summarizer(text_example)[0]['summary_text']+\"\\n\\n\"+c_summarizer(text_example)[0]['summary_text']+\"\\n\\n\"+d_summarizer(text_example)[0]['summary_text'])"
      ],
      "metadata": {
        "id": "B09bNDK72Odm",
        "colab": {
          "base_uri": "https://localhost:8080/"
        },
        "outputId": "4704beaa-1e62-4dec-9553-4878912481e1"
      },
      "execution_count": null,
      "outputs": [
        {
          "output_type": "stream",
          "name": "stdout",
          "text": [
            "The Eiffel Tower is a free-standing structure in Paris, France.\n",
            "\n",
            "The tower is 324 meters (1,063 ft) tall, about the same height as an 81-storey building. Its base is square,                 measuring 125 meters (410 ft) on each side. During its construction, the Eiffel Tower surpassed the Washington Monument to become the tallest man-made structure in the world.\n",
            "\n",
            "The Eiffel Tower has become the tallest free-standing building in the world.\n",
            "\n",
            ". It is the tallest structure in Paris. It is the tallest structure in Paris\n"
          ]
        }
      ]
    },
    {
      "cell_type": "code",
      "source": [
        "auto_pegasus(text_example) "
      ],
      "metadata": {
        "colab": {
          "base_uri": "https://localhost:8080/"
        },
        "id": "h9pdJpRfsrQz",
        "outputId": "3a512096-e288-4d18-e3a8-0141f0248958"
      },
      "execution_count": null,
      "outputs": [
        {
          "output_type": "stream",
          "name": "stdout",
          "text": [
            "The Eiffel Tower, also known as the Arc de Triomphe, was built in 1889 in Paris, France, by Gustave Eiffel, the architect of the Champs-Elysees, the Champs-lysées, the Arc de Triomphe and the Arc de Triomphe in Paris, as well as the Arc de Triomphe and the Arc de Triomphe in London, England, and the Arc de Triomphe in Paris, France.\n"
          ]
        }
      ]
    },
    {
      "cell_type": "markdown",
      "source": [
        "## Example #2"
      ],
      "metadata": {
        "id": "E-dVblYnCTeS"
      }
    },
    {
      "cell_type": "code",
      "source": [
        "text_example = '''Data science is a concept to unify statistics, data analysis, informatics, and their related methods in order to understand and analyse actual phenomena with data. \n",
        "It uses techniques and theories drawn from many fields within the context of mathematics, statistics, computer science, information science, and domain knowledge. \n",
        "However, data science is different from computer science and information science. \n",
        "Turing Award winner Jim Gray imagined data science as a fourth paradigm of science (empirical, theoretical, computational, and now data-driven) and asserted that everything about science is changing because of the impact of information technology and the data deluge. \n",
        "Data science is an interdisciplinary field that uses scientific methods, processes, algorithms and systems to extract knowledge and insights from noisy, structured and unstructured data, and apply knowledge from data across a broad range of application domains. \n",
        "Data science is related to data mining, machine learning and big data. A data scientist is someone who creates programming code and combines it with statistical knowledge to create insights from data.'''\n",
        "# Need to evaluate results manually due to lack of labelling\n",
        "\n",
        "print(a_summarizer(text_example)[0]['summary_text']+\"\\n\\n\"+b_summarizer(text_example)[0]['summary_text']+\"\\n\\n\"+c_summarizer(text_example)[0]['summary_text']+\"\\n\\n\"+d_summarizer(text_example)[0]['summary_text'])"
      ],
      "metadata": {
        "colab": {
          "base_uri": "https://localhost:8080/"
        },
        "id": "Fd2P587yLzlo",
        "outputId": "5a9e2f6f-29b8-4c2e-ccc6-d948eae62433"
      },
      "execution_count": null,
      "outputs": [
        {
          "output_type": "stream",
          "name": "stdout",
          "text": [
            "Data science is an interdisciplinary field that uses scientific methods, processes, algorithms and systems to extract knowledge and insights from noisy, structured and unstructured data, and apply knowledge from data across a broad range of application domains.\n",
            "\n",
            "Data science is an interdisciplinary field that uses scientific methods, processes, algorithms and systems to extract knowledge and insights from noisy, structured and unstructured data. It is related to data mining, machine learning and big data. A data scientist is someone who creates programming code and combines it with statistical knowledge to create insights from data.\n",
            "\n",
            "Data science is one of the most important fields in science.\n",
            "\n",
            ". Data science is a interdisciplinary field of science and engineering. It is related\n"
          ]
        }
      ]
    },
    {
      "cell_type": "code",
      "source": [
        "auto_pegasus(text_example) "
      ],
      "metadata": {
        "colab": {
          "base_uri": "https://localhost:8080/"
        },
        "id": "Ls4pWkpdsxOo",
        "outputId": "8ed01288-a6b9-4de6-bd24-942626e6d85f"
      },
      "execution_count": null,
      "outputs": [
        {
          "output_type": "stream",
          "name": "stdout",
          "text": [
            "Data science is an interdisciplinary field that uses scientific methods, processes, algorithms and systems to extract knowledge and insights from noisy, structured and unstructured data, and apply knowledge from data across a broad range of application domains, such as finance, healthcare, energy, manufacturing, education, and the media and entertainment industries. Data science is an interdisciplinary field that uses scientific methods, processes, algorithms and systems to extract knowledge and insights from noisy, structured and unstructured data, and apply knowledge from data across a broad range of application domains.\n"
          ]
        }
      ]
    }
  ]
}